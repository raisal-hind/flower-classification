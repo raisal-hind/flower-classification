import numpy as np # linear algebra
import pandas as pd # data processing
import seaborn as sns #vizualization
import matplotlib.pyplot as plt #vizualization
from matplotlib import cm

import keras

from keras.models import Sequential
from keras.layers import Dense

from sklearn.preprocessing import StandardScaler, LabelBinarizer
from sklearn.utils import shuffle

# Data Loading
from sklearn.datasets import load_iris
data = load_iris()
data = pd.DataFrame(data= np.c_[data['data'], data['target']],
                     columns= data['feature_names'] + ['target'])
data


# Exploratory analysis

sns.pairplot(data=data[data.columns[0:6]], hue='target')
plt.show()

# Heatmap
plt.figure(figsize=(8,5)) 
sns.heatmap(data.corr(),annot=True,cmap='cubehelix_r') 
plt.show()

#Now, lets shuffle the data

data = shuffle(data)
X=data[['sepal length (cm)','sepal width (cm)','petal length (cm)','petal width (cm)']]
target=data[['target']]
y_true=target.copy()
x
target

#train the model
X = StandardScaler().fit_transform(X)
target = LabelBinarizer().fit_transform(target)

#Dividing the Data into train and test
from sklearn.model_selection import train_test_split
x_train, x_test, y_train, y_test = train_test_split(X, target, test_size = 0.2, random_state = 101)


model = Sequential()
model.add(Dense( 12, input_dim=4, activation = 'relu'))
model.add(Dense( units = 15, activation= 'relu'))
model.add(Dense( units = 8, activation= 'relu'))
model.add(Dense( units = 10, activation= 'relu'))
model.add(Dense( units = 3, activation= 'softmax'))
model.compile(loss = 'categorical_crossentropy', optimizer = 'adam', metrics = ['accuracy'])
history = model.fit(x_train, y_train, epochs = 120, validation_data = (x_test, y_test))



##Predicting Targets for test data from the model trained on train data
y_pred=model.predict_classes(x_test)
y_test=np.argmax(y_test, axis=1)

from sklearn.metrics import confusion_matrix

cm=confusion_matrix(y_test.tolist(), y_pred.tolist())

import seaborn as sns
import matplotlib.pyplot as plt     

ax= plt.subplot()
sns.heatmap(cm, annot=True, ax = ax); #annot=True to annotate cells

# labels, title and ticks
ax.set_xlabel('Predicted labels');ax.set_ylabel('True labels'); 
ax.set_title('Confusion Matrix'); 
ax.xaxis.set_ticklabels(['setosa', 'versicolor', 'virginica']); ax.yaxis.set_ticklabels(['setosa', 'versicolor', 'virginica']);

from sklearn.metrics import precision_recall_fscore_support
precision_recall_fscore_support(y_test.tolist(), y_pred.tolist(), average='macro')


#Plotting Accuracy and Loss

plt.plot(history.history['accuracy'])
plt.plot(history.history['val_accuracy'])
plt.title("Accuracy")
plt.legend(['train', 'test'])
plt.show()

plt.plot(history.history['loss'])
plt.plot(history.history['val_loss'])
plt.title('Loss')
plt.legend(['Train','Test'])
plt.show()
